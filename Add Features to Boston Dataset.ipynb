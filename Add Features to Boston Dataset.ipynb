{
 "cells": [
  {
   "cell_type": "code",
   "execution_count": 14,
   "metadata": {},
   "outputs": [],
   "source": [
    "from sklearn.linear_model import LinearRegression\n",
    "from sklearn import model_selection\n",
    "from sklearn.datasets import load_boston\n",
    "import numpy as np\n",
    "import pandas as pd"
   ]
  },
  {
   "cell_type": "code",
   "execution_count": 27,
   "metadata": {
    "scrolled": true
   },
   "outputs": [],
   "source": [
    "boston=load_boston()\n",
    "boston\n",
    "X=boston.data\n",
    "Y=boston.target\n",
    "cols=boston.feature_names\n",
    "df=pd.DataFrame(X)\n",
    "df.columns=cols\n",
    "for i in range(len(cols)):\n",
    "    for j in range(i+1, len(cols)):\n",
    "        index=cols[i]+'_'+cols[j]\n",
    "        df[index]=df[cols[i]]*df[cols[j]]\n",
    "X=df.values\n"
   ]
  },
  {
   "cell_type": "code",
   "execution_count": 28,
   "metadata": {},
   "outputs": [],
   "source": [
    "model=LinearRegression()\n",
    "X_train, X_test, Y_train, Y_test=model_selection.train_test_split(X, Y)"
   ]
  },
  {
   "cell_type": "code",
   "execution_count": 29,
   "metadata": {},
   "outputs": [
    {
     "name": "stdout",
     "output_type": "stream",
     "text": [
      "training score:  0.92930340969062\n",
      "testing score:  0.8226580361395417\n"
     ]
    }
   ],
   "source": [
    "model.fit(X_train, Y_train)\n",
    "Y_predicted=model.predict(X_test)\n",
    "print(\"training score: \", model.score(X_train, Y_train))\n",
    "print(\"testing score: \", model.score(X_test, Y_test))"
   ]
  }
 ],
 "metadata": {
  "kernelspec": {
   "display_name": "Python 3",
   "language": "python",
   "name": "python3"
  },
  "language_info": {
   "codemirror_mode": {
    "name": "ipython",
    "version": 3
   },
   "file_extension": ".py",
   "mimetype": "text/x-python",
   "name": "python",
   "nbconvert_exporter": "python",
   "pygments_lexer": "ipython3",
   "version": "3.7.3"
  }
 },
 "nbformat": 4,
 "nbformat_minor": 2
}
