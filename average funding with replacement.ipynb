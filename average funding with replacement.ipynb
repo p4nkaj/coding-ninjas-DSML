{
 "cells": [
  {
   "cell_type": "code",
   "execution_count": 11,
   "metadata": {},
   "outputs": [
    {
     "data": {
      "text/plain": [
       "6988479.543818772"
      ]
     },
     "execution_count": 11,
     "metadata": {},
     "output_type": "execute_result"
    }
   ],
   "source": [
    "import pandas as pd\n",
    "data=pd.read_csv('datasets/startup_funding.csv')\n",
    "df=data.copy()\n",
    "amount=df.loc[(df['CityLocation']=='Bangalore')|(df['CityLocation']=='New Delhi')|(df['CityLocation']=='bangalore')|(df['CityLocation']=='Delhi'), 'AmountInUSD']\n",
    "amount.dropna(inplace=True)\n",
    "amount=pd.to_numeric(amount.str.replace(',', ''))\n",
    "pop_avg=amount.mean()\n",
    "sample=amount.sample(75)\n",
    "sam_avg=sample.mean()\n",
    "sampling_error=pop_avg-sam_avg\n",
    "sampling_error"
   ]
  }
 ],
 "metadata": {
  "kernelspec": {
   "display_name": "Python 3",
   "language": "python",
   "name": "python3"
  },
  "language_info": {
   "codemirror_mode": {
    "name": "ipython",
    "version": 3
   },
   "file_extension": ".py",
   "mimetype": "text/x-python",
   "name": "python",
   "nbconvert_exporter": "python",
   "pygments_lexer": "ipython3",
   "version": "3.7.3"
  }
 },
 "nbformat": 4,
 "nbformat_minor": 2
}
