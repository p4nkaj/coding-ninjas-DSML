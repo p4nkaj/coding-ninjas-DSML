{
 "cells": [
  {
   "cell_type": "code",
   "execution_count": 73,
   "metadata": {},
   "outputs": [
    {
     "name": "stdout",
     "output_type": "stream",
     "text": [
      "Sum of leaf nodes in BST ---> 71.34\n",
      "Search a node in BST ---> 62.66\n",
      "Minimum element in BST ---> 62.66\n",
      "Normal BST to Balanced BST ---> 60.32\n",
      "Convert Level Order Traversal to BST ---> 59.43\n",
      "Unique BST's ---> 52.11\n",
      "Brothers From Different Roots ---> 50.71\n",
      "Count BST nodes that lie in a given range ---> 50.5\n",
      "Lowest Common Ancestor in a BST  ---> 50.22\n",
      "Unique BST's ---> 50\n",
      "Add all greater values to every node in a BST ---> 50\n",
      "Print BST elements in given range ---> 49.48\n",
      "k-th smallest element in BST ---> 49.44\n",
      "Fixing Two nodes of a BST ---> 49.09\n",
      "Is Binary Tree Heap ---> 47.51\n",
      "Preorder to Postorder ---> 47.23\n",
      "Delete nodes greater than k ---> 46.63\n",
      "Pairs violating BST property ---> 46.15\n",
      "Binary Tree to BST ---> 46.11\n",
      "Merge two BST 's ---> 45.79\n",
      "Construct BST from Postorder ---> 45.54\n",
      "Find a pair with given target in BST ---> 45.14\n",
      "Inorder Traversal and BST ---> 43.83\n",
      "Triplet with 0 sum in BST ---> 42.88\n",
      "Kth largest element in BST ---> 42.26\n",
      "Predecessor and Successor ---> 39.68\n",
      "Inorder Successor in BST ---> 39.66\n",
      "Find the Closest Element in BST ---> 39.33\n",
      "Preorder Traversal and BST ---> 38.7\n",
      "AVL Tree Insertion ---> 37.39\n",
      "Optimal binary search tree ---> 36.35\n",
      "Does array represent Heap ---> 36.17\n",
      "Print leaf nodes from preorder traversal of BST ---> 36.05\n",
      "pth common ancestor in BST ---> 34.81\n",
      "Delete a node from BST ---> 34.76\n",
      "Change of Key in BST ---> 34.59\n",
      "Print Common Nodes in BST ---> 33.97\n",
      "Insert a node in a BST ---> 32.7\n",
      "Array to BST ---> 31.73\n",
      "Check whether BST contains Dead End  ---> 31.13\n"
     ]
    }
   ],
   "source": [
    "import time\n",
    "from selenium import webdriver\n",
    "import re\n",
    "from bs4 import BeautifulSoup\n",
    "driver=webdriver.Chrome('f://chromedriver')\n",
    "driver.get('https://practice.geeksforgeeks.org/')\n",
    "time.sleep(3)\n",
    "driver.find_element_by_partial_link_text('Got it!').click()\n",
    "time.sleep(2)\n",
    "\n",
    "driver.find_element_by_xpath('//img[@alt=\"BST\"]').click()\n",
    "time.sleep(2)\n",
    "names=[]\n",
    "accuracy=[]\n",
    "for i in driver.find_elements_by_xpath('//div[@id=\"problemFeed\"]/div/div/div/span'):\n",
    "    names.append(i.get_attribute('innerHTML'))\n",
    "for i in driver.find_elements_by_xpath('//div[@id=\"problemFeed\"]/div/div/div/div/div[3]/div/div'):\n",
    "    accuracy.append(i.get_attribute('aria-valuenow'))\n",
    "for i in range(len(names)):\n",
    "    print(names[i], '--->', accuracy[i])"
   ]
  }
 ],
 "metadata": {
  "kernelspec": {
   "display_name": "Python 3",
   "language": "python",
   "name": "python3"
  },
  "language_info": {
   "codemirror_mode": {
    "name": "ipython",
    "version": 3
   },
   "file_extension": ".py",
   "mimetype": "text/x-python",
   "name": "python",
   "nbconvert_exporter": "python",
   "pygments_lexer": "ipython3",
   "version": "3.7.3"
  }
 },
 "nbformat": 4,
 "nbformat_minor": 2
}
