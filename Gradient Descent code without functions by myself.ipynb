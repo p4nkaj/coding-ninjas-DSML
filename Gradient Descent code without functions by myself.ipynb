{
 "cells": [
  {
   "cell_type": "code",
   "execution_count": 21,
   "metadata": {
    "scrolled": true
   },
   "outputs": [
    {
     "name": "stdout",
     "output_type": "stream",
     "text": [
      "1.4788027175308358 0.035074970592341756\n"
     ]
    }
   ],
   "source": [
    "import numpy as np\n",
    "data=np.loadtxt('datasets/data.csv', delimiter=',')\n",
    "m=0\n",
    "c=0\n",
    "iterations=100\n",
    "alpha=0.0001\n",
    "x=data[:, 0]\n",
    "y=data[:, 1]\n",
    "for i in range(iterations):\n",
    "    cost=(1/len(data))*sum((y-m*x-c)**2)\n",
    "    dcost_dm=(-2/len(data))*sum((y-m*x-c)*x)\n",
    "    dcost_dc=(-2/len(data))*sum((y-m*x-c))\n",
    "    m=m-alpha*dcost_dm\n",
    "    c=c-alpha*dcost_dc\n",
    "print(m, c)"
   ]
  }
 ],
 "metadata": {
  "kernelspec": {
   "display_name": "Python 3",
   "language": "python",
   "name": "python3"
  },
  "language_info": {
   "codemirror_mode": {
    "name": "ipython",
    "version": 3
   },
   "file_extension": ".py",
   "mimetype": "text/x-python",
   "name": "python",
   "nbconvert_exporter": "python",
   "pygments_lexer": "ipython3",
   "version": "3.7.3"
  }
 },
 "nbformat": 4,
 "nbformat_minor": 2
}
