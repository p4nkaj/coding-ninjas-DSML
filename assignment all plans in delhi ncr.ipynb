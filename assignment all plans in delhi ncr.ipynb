{
 "cells": [
  {
   "cell_type": "code",
   "execution_count": 104,
   "metadata": {},
   "outputs": [
    {
     "name": "stdout",
     "output_type": "stream",
     "text": [
      "3599\n",
      "6999\n",
      "3997\n",
      "175\n",
      "1000\n",
      "145\n",
      "499\n",
      "499\n",
      "35\n",
      "24\n",
      "199\n",
      "148\n",
      "3995\n",
      "649\n",
      "3995\n",
      "92\n",
      "10\n",
      "169\n",
      "1000\n",
      "2499\n",
      "296\n",
      "446\n",
      "98\n",
      "48\n",
      "199\n",
      "6999\n",
      "1699\n",
      "597\n",
      "23\n",
      "35\n"
     ]
    }
   ],
   "source": [
    "from selenium import webdriver\n",
    "from bs4 import BeautifulSoup\n",
    "import time\n",
    "import pandas as pd\n",
    "import re\n",
    "\n",
    "driver=webdriver.Chrome('f:/chromedriver.exe')\n",
    "driver.get('https://paytm.com/recharge')\n",
    "\n",
    "driver.find_element_by_class_name('i02k').click()\n",
    "\n",
    "driver.find_element_by_partial_link_text('Airtel').click()\n",
    "\n",
    "time.sleep(2)\n",
    "\n",
    "driver.find_element_by_xpath('//div[@class=\"_3xI1\"]/ul/li[5]/span').click()\n",
    "\n",
    "for i in driver.find_elements_by_xpath('//td[@class=\"_3t58 brJq\"]/button'):\n",
    "    st=i.get_attribute('innerHTML').strip()\n",
    "    rered=re.search('\\d+', st).group()\n",
    "    print(int(rered))"
   ]
  }
 ],
 "metadata": {
  "kernelspec": {
   "display_name": "Python 3",
   "language": "python",
   "name": "python3"
  },
  "language_info": {
   "codemirror_mode": {
    "name": "ipython",
    "version": 3
   },
   "file_extension": ".py",
   "mimetype": "text/x-python",
   "name": "python",
   "nbconvert_exporter": "python",
   "pygments_lexer": "ipython3",
   "version": "3.7.3"
  }
 },
 "nbformat": 4,
 "nbformat_minor": 2
}
