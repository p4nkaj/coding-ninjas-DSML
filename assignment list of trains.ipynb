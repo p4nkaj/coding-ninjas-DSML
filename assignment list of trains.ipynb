{
 "cells": [
  {
   "cell_type": "code",
   "execution_count": 49,
   "metadata": {},
   "outputs": [
    {
     "name": "stdout",
     "output_type": "stream",
     "text": [
      "shaheed express\n",
      "vskp asr hkg exp\n",
      "shane punjab\n",
      "jbp att spl\n",
      "csmt asr expres\n",
      "paschim express\n",
      "goldentemple ml\n",
      "panchvalley  pas\n",
      "chattisgarh exp\n",
      "tata jat exp\n",
      "amritsar shtbdi\n",
      "swarna shtbdi\n",
      "ngp asr ac exp\n",
      "kir asr express\n",
      "dli ptk sf exp\n",
      "sachkhand exp\n",
      "ndlsasr express\n"
     ]
    }
   ],
   "source": [
    "import re\n",
    "from selenium import webdriver\n",
    "import time\n",
    "\n",
    "driver=webdriver.Chrome('f:/chromedriver')\n",
    "\n",
    "driver.get('https://paytm.com/')\n",
    "\n",
    "driver.find_element_by_xpath('//a[@title=\"Train\"]').click()\n",
    "\n",
    "txt=driver.find_element_by_xpath('//input[@data-reactid=\"170\"]')\n",
    "txt.send_keys('Delhi')\n",
    "time.sleep(2)\n",
    "driver.find_element_by_class_name('_3sXO').click()\n",
    "txt=driver.find_element_by_xpath('//input[@data-reactid=\"183\"]')\n",
    "txt.send_keys('Amritsar')\n",
    "time.sleep(2)\n",
    "driver.find_element_by_class_name('_3sXO').click()\n",
    "txt=driver.find_element_by_xpath('//div[@data-reactid=\"206\"]').click()\n",
    "time.sleep(2)\n",
    "driver.find_element_by_class_name('_1r6Q').click()\n",
    "time.sleep(2)\n",
    "\n",
    "for i in driver.find_elements_by_xpath('//div[@class=\"_2Ahy\"]/div/div[1]/h5'):\n",
    "    print(i.get_attribute('innerHTML'))"
   ]
  }
 ],
 "metadata": {
  "kernelspec": {
   "display_name": "Python 3",
   "language": "python",
   "name": "python3"
  },
  "language_info": {
   "codemirror_mode": {
    "name": "ipython",
    "version": 3
   },
   "file_extension": ".py",
   "mimetype": "text/x-python",
   "name": "python",
   "nbconvert_exporter": "python",
   "pygments_lexer": "ipython3",
   "version": "3.7.3"
  }
 },
 "nbformat": 4,
 "nbformat_minor": 2
}
