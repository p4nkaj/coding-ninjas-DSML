{
 "cells": [
  {
   "cell_type": "code",
   "execution_count": 30,
   "metadata": {},
   "outputs": [],
   "source": [
    "import numpy as np\n",
    "def fit(x, y):\n",
    "    x=np.array(x)\n",
    "    y=np.array(y)\n",
    "    m=(((np.mean(x*y))-(np.mean(x)*np.mean(y)))/((np.mean(x*x))-(np.mean(x)*np.mean(x))))\n",
    "    c=np.mean(y)-m*np.mean(x)\n",
    "    return (m, c)\n",
    "def predict(x, m, c):\n",
    "    x=np.array(x)\n",
    "    return m*x+c\n",
    "def coeff_of_det(y_pred, y_true):\n",
    "    y_pred=np.array(y_pred)\n",
    "    y_true=np.array(y_true)\n",
    "    return 1-((sum((y_true-y_pred)**2))/(sum((y_true-np.mean(y_true))**2)))\n",
    "def cost(x, y, m, c):\n",
    "    x=np.array(x)\n",
    "    y=np.array(y)\n",
    "    return sum((y-m*x-c)**2)\n"
   ]
  }
 ],
 "metadata": {
  "kernelspec": {
   "display_name": "Python 3",
   "language": "python",
   "name": "python3"
  },
  "language_info": {
   "codemirror_mode": {
    "name": "ipython",
    "version": 3
   },
   "file_extension": ".py",
   "mimetype": "text/x-python",
   "name": "python",
   "nbconvert_exporter": "python",
   "pygments_lexer": "ipython3",
   "version": "3.7.3"
  }
 },
 "nbformat": 4,
 "nbformat_minor": 2
}
