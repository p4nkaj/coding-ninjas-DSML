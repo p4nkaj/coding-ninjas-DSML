{
 "cells": [
  {
   "cell_type": "code",
   "execution_count": 46,
   "metadata": {},
   "outputs": [
    {
     "name": "stdout",
     "output_type": "stream",
     "text": [
      "68499\n",
      "59499\n",
      "37299\n",
      "66299\n"
     ]
    }
   ],
   "source": [
    "from selenium import webdriver\n",
    "import time\n",
    "import re\n",
    "from selenium.webdriver.common.keys import Keys\n",
    "\n",
    "driver=webdriver.Chrome('f:/chromedriver.exe')\n",
    "driver.get('https://paytm.com/')\n",
    "time.sleep(5)\n",
    "txt=driver.find_element_by_xpath('//input[@type=\"search\"]')\n",
    "txt.send_keys('iphone')\n",
    "txt.send_keys(Keys.ENTER)\n",
    "time.sleep(5)\n",
    "for i in driver.find_elements_by_xpath('//div[@class=\"_3RA-\"]/div[1]/div/a/div[3]/span/span[2]'):\n",
    "    st=(i.get_attribute('innerHTML'))\n",
    "    rered=re.search('\\d+', st).group()\n",
    "    print(rered)"
   ]
  }
 ],
 "metadata": {
  "kernelspec": {
   "display_name": "Python 3",
   "language": "python",
   "name": "python3"
  },
  "language_info": {
   "codemirror_mode": {
    "name": "ipython",
    "version": 3
   },
   "file_extension": ".py",
   "mimetype": "text/x-python",
   "name": "python",
   "nbconvert_exporter": "python",
   "pygments_lexer": "ipython3",
   "version": "3.7.3"
  }
 },
 "nbformat": 4,
 "nbformat_minor": 2
}
