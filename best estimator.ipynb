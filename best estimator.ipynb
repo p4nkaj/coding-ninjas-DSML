{
 "cells": [
  {
   "cell_type": "code",
   "execution_count": 2,
   "metadata": {},
   "outputs": [],
   "source": [
    "from sklearn.datasets import load_iris\n",
    "from sklearn.svm import SVC\n",
    "from sklearn.model_selection import train_test_split\n",
    "from sklearn.model_selection import GridSearchCV\n",
    "from sklearn.neighbors import KNeighborsClassifier"
   ]
  },
  {
   "cell_type": "code",
   "execution_count": 22,
   "metadata": {},
   "outputs": [],
   "source": [
    "data=load_iris()\n",
    "x=data.data\n",
    "y=data.target\n",
    "x_train, x_test, y_train, y_test=train_test_split(x, y)"
   ]
  },
  {
   "cell_type": "code",
   "execution_count": 27,
   "metadata": {},
   "outputs": [
    {
     "name": "stderr",
     "output_type": "stream",
     "text": [
      "C:\\ProgramData\\Anaconda3\\lib\\site-packages\\sklearn\\model_selection\\_split.py:2053: FutureWarning: You should specify a value for 'cv' instead of relying on the default value. The default value will change from 3 to 5 in version 0.22.\n",
      "  warnings.warn(CV_WARNING, FutureWarning)\n"
     ]
    },
    {
     "data": {
      "text/plain": [
       "GridSearchCV(cv='warn', error_score='raise-deprecating',\n",
       "       estimator=SVC(C=1.0, cache_size=200, class_weight=None, coef0=0.0,\n",
       "  decision_function_shape='ovr', degree=3, gamma='auto_deprecated',\n",
       "  kernel='rbf', max_iter=-1, probability=False, random_state=None,\n",
       "  shrinking=True, tol=0.001, verbose=False),\n",
       "       fit_params=None, iid='warn', n_jobs=None,\n",
       "       param_grid={'gamma': [0.1, 0.01, 0.005, 0.0001], 'C': [10.0, 100.0, 1000.0, 10000.0, 100000.0, 1000000.0]},\n",
       "       pre_dispatch='2*n_jobs', refit=True, return_train_score='warn',\n",
       "       scoring=None, verbose=0)"
      ]
     },
     "execution_count": 27,
     "metadata": {},
     "output_type": "execute_result"
    }
   ],
   "source": [
    "clf=SVC()\n",
    "grid={\"gamma\":[1e-1, 1e-2, 5e-3, 1e-4],\n",
    "     \"C\":[1e1, 1e2, 1e3, 1e4, 1e5, 1e6]}\n",
    "abc=GridSearchCV(clf, grid)\n",
    "abc.fit(x_train, y_train)"
   ]
  },
  {
   "cell_type": "code",
   "execution_count": 28,
   "metadata": {},
   "outputs": [
    {
     "data": {
      "text/plain": [
       "SVC(C=100.0, cache_size=200, class_weight=None, coef0=0.0,\n",
       "  decision_function_shape='ovr', degree=3, gamma=0.01, kernel='rbf',\n",
       "  max_iter=-1, probability=False, random_state=None, shrinking=True,\n",
       "  tol=0.001, verbose=False)"
      ]
     },
     "execution_count": 28,
     "metadata": {},
     "output_type": "execute_result"
    }
   ],
   "source": [
    "abc.best_estimator_"
   ]
  },
  {
   "cell_type": "code",
   "execution_count": 29,
   "metadata": {},
   "outputs": [
    {
     "name": "stderr",
     "output_type": "stream",
     "text": [
      "C:\\ProgramData\\Anaconda3\\lib\\site-packages\\sklearn\\utils\\deprecation.py:125: FutureWarning: You are accessing a training score ('split0_train_score'), which will not be available by default any more in 0.21. If you need training scores, please set return_train_score=True\n",
      "  warnings.warn(*warn_args, **warn_kwargs)\n",
      "C:\\ProgramData\\Anaconda3\\lib\\site-packages\\sklearn\\utils\\deprecation.py:125: FutureWarning: You are accessing a training score ('split1_train_score'), which will not be available by default any more in 0.21. If you need training scores, please set return_train_score=True\n",
      "  warnings.warn(*warn_args, **warn_kwargs)\n",
      "C:\\ProgramData\\Anaconda3\\lib\\site-packages\\sklearn\\utils\\deprecation.py:125: FutureWarning: You are accessing a training score ('split2_train_score'), which will not be available by default any more in 0.21. If you need training scores, please set return_train_score=True\n",
      "  warnings.warn(*warn_args, **warn_kwargs)\n",
      "C:\\ProgramData\\Anaconda3\\lib\\site-packages\\sklearn\\utils\\deprecation.py:125: FutureWarning: You are accessing a training score ('mean_train_score'), which will not be available by default any more in 0.21. If you need training scores, please set return_train_score=True\n",
      "  warnings.warn(*warn_args, **warn_kwargs)\n",
      "C:\\ProgramData\\Anaconda3\\lib\\site-packages\\sklearn\\utils\\deprecation.py:125: FutureWarning: You are accessing a training score ('std_train_score'), which will not be available by default any more in 0.21. If you need training scores, please set return_train_score=True\n",
      "  warnings.warn(*warn_args, **warn_kwargs)\n"
     ]
    },
    {
     "data": {
      "text/plain": [
       "{'mean_fit_time': array([0.00266735, 0.        , 0.00133554, 0.00133268, 0.00266695,\n",
       "        0.        , 0.        , 0.0013334 , 0.00266631, 0.        ,\n",
       "        0.        , 0.        , 0.        , 0.        , 0.        ,\n",
       "        0.        , 0.        , 0.        , 0.        , 0.        ,\n",
       "        0.        , 0.        , 0.        , 0.        ]),\n",
       " 'std_fit_time': array([0.0018861 , 0.        , 0.00188874, 0.00188469, 0.00188582,\n",
       "        0.        , 0.        , 0.00188571, 0.00188537, 0.        ,\n",
       "        0.        , 0.        , 0.        , 0.        , 0.        ,\n",
       "        0.        , 0.        , 0.        , 0.        , 0.        ,\n",
       "        0.        , 0.        , 0.        , 0.        ]),\n",
       " 'mean_score_time': array([0.00133316, 0.        , 0.        , 0.        , 0.        ,\n",
       "        0.00133387, 0.00133316, 0.        , 0.        , 0.        ,\n",
       "        0.        , 0.        , 0.00520968, 0.        , 0.        ,\n",
       "        0.        , 0.        , 0.        , 0.        , 0.        ,\n",
       "        0.        , 0.        , 0.00520945, 0.        ]),\n",
       " 'std_score_time': array([0.00188537, 0.        , 0.        , 0.        , 0.        ,\n",
       "        0.00188638, 0.00188537, 0.        , 0.        , 0.        ,\n",
       "        0.        , 0.        , 0.00736761, 0.        , 0.        ,\n",
       "        0.        , 0.        , 0.        , 0.        , 0.        ,\n",
       "        0.        , 0.        , 0.00736727, 0.        ]),\n",
       " 'param_C': masked_array(data=[10.0, 10.0, 10.0, 10.0, 100.0, 100.0, 100.0, 100.0,\n",
       "                    1000.0, 1000.0, 1000.0, 1000.0, 10000.0, 10000.0,\n",
       "                    10000.0, 10000.0, 100000.0, 100000.0, 100000.0,\n",
       "                    100000.0, 1000000.0, 1000000.0, 1000000.0, 1000000.0],\n",
       "              mask=[False, False, False, False, False, False, False, False,\n",
       "                    False, False, False, False, False, False, False, False,\n",
       "                    False, False, False, False, False, False, False, False],\n",
       "        fill_value='?',\n",
       "             dtype=object),\n",
       " 'param_gamma': masked_array(data=[0.1, 0.01, 0.005, 0.0001, 0.1, 0.01, 0.005, 0.0001,\n",
       "                    0.1, 0.01, 0.005, 0.0001, 0.1, 0.01, 0.005, 0.0001,\n",
       "                    0.1, 0.01, 0.005, 0.0001, 0.1, 0.01, 0.005, 0.0001],\n",
       "              mask=[False, False, False, False, False, False, False, False,\n",
       "                    False, False, False, False, False, False, False, False,\n",
       "                    False, False, False, False, False, False, False, False],\n",
       "        fill_value='?',\n",
       "             dtype=object),\n",
       " 'params': [{'C': 10.0, 'gamma': 0.1},\n",
       "  {'C': 10.0, 'gamma': 0.01},\n",
       "  {'C': 10.0, 'gamma': 0.005},\n",
       "  {'C': 10.0, 'gamma': 0.0001},\n",
       "  {'C': 100.0, 'gamma': 0.1},\n",
       "  {'C': 100.0, 'gamma': 0.01},\n",
       "  {'C': 100.0, 'gamma': 0.005},\n",
       "  {'C': 100.0, 'gamma': 0.0001},\n",
       "  {'C': 1000.0, 'gamma': 0.1},\n",
       "  {'C': 1000.0, 'gamma': 0.01},\n",
       "  {'C': 1000.0, 'gamma': 0.005},\n",
       "  {'C': 1000.0, 'gamma': 0.0001},\n",
       "  {'C': 10000.0, 'gamma': 0.1},\n",
       "  {'C': 10000.0, 'gamma': 0.01},\n",
       "  {'C': 10000.0, 'gamma': 0.005},\n",
       "  {'C': 10000.0, 'gamma': 0.0001},\n",
       "  {'C': 100000.0, 'gamma': 0.1},\n",
       "  {'C': 100000.0, 'gamma': 0.01},\n",
       "  {'C': 100000.0, 'gamma': 0.005},\n",
       "  {'C': 100000.0, 'gamma': 0.0001},\n",
       "  {'C': 1000000.0, 'gamma': 0.1},\n",
       "  {'C': 1000000.0, 'gamma': 0.01},\n",
       "  {'C': 1000000.0, 'gamma': 0.005},\n",
       "  {'C': 1000000.0, 'gamma': 0.0001}],\n",
       " 'split0_test_score': array([1.        , 1.        , 0.97368421, 0.68421053, 0.97368421,\n",
       "        1.        , 1.        , 0.86842105, 0.94736842, 0.97368421,\n",
       "        0.97368421, 1.        , 0.94736842, 0.97368421, 0.97368421,\n",
       "        1.        , 0.94736842, 0.94736842, 0.94736842, 0.97368421,\n",
       "        0.94736842, 0.94736842, 0.94736842, 0.97368421]),\n",
       " 'split1_test_score': array([0.94736842, 0.92105263, 0.94736842, 0.68421053, 0.92105263,\n",
       "        0.94736842, 0.94736842, 0.94736842, 0.89473684, 0.94736842,\n",
       "        0.94736842, 0.92105263, 0.89473684, 0.94736842, 0.94736842,\n",
       "        0.94736842, 0.89473684, 0.94736842, 0.94736842, 0.94736842,\n",
       "        0.89473684, 0.94736842, 0.94736842, 0.94736842]),\n",
       " 'split2_test_score': array([0.94444444, 0.94444444, 0.94444444, 0.66666667, 0.91666667,\n",
       "        0.97222222, 0.97222222, 0.88888889, 0.91666667, 0.91666667,\n",
       "        0.91666667, 0.94444444, 0.91666667, 0.88888889, 0.88888889,\n",
       "        0.97222222, 0.91666667, 0.88888889, 0.88888889, 0.91666667,\n",
       "        0.91666667, 0.88888889, 0.88888889, 0.88888889]),\n",
       " 'mean_test_score': array([0.96428571, 0.95535714, 0.95535714, 0.67857143, 0.9375    ,\n",
       "        0.97321429, 0.97321429, 0.90178571, 0.91964286, 0.94642857,\n",
       "        0.94642857, 0.95535714, 0.91964286, 0.9375    , 0.9375    ,\n",
       "        0.97321429, 0.91964286, 0.92857143, 0.92857143, 0.94642857,\n",
       "        0.91964286, 0.92857143, 0.92857143, 0.9375    ]),\n",
       " 'std_test_score': array([0.02562036, 0.03337275, 0.01318677, 0.00819342, 0.02599071,\n",
       "        0.0216885 , 0.0216885 , 0.03370635, 0.02177431, 0.02317449,\n",
       "        0.02317449, 0.03337275, 0.02177431, 0.03516839, 0.03516839,\n",
       "        0.0216885 , 0.02177431, 0.0273114 , 0.0273114 , 0.02317449,\n",
       "        0.02177431, 0.0273114 , 0.0273114 , 0.03516839]),\n",
       " 'rank_test_score': array([ 4,  5,  5, 24, 11,  1,  1, 23, 19,  8,  8,  5, 19, 11, 11,  1, 19,\n",
       "        15, 15,  8, 19, 15, 15, 11]),\n",
       " 'split0_train_score': array([0.97297297, 0.97297297, 0.97297297, 0.67567568, 0.97297297,\n",
       "        0.98648649, 0.98648649, 0.93243243, 0.98648649, 0.97297297,\n",
       "        0.97297297, 0.97297297, 1.        , 0.97297297, 0.97297297,\n",
       "        0.98648649, 1.        , 0.98648649, 0.98648649, 0.97297297,\n",
       "        1.        , 1.        , 1.        , 0.97297297]),\n",
       " 'split1_train_score': array([1.        , 1.        , 1.        , 0.66216216, 1.        ,\n",
       "        1.        , 1.        , 0.94594595, 1.        , 1.        ,\n",
       "        1.        , 1.        , 1.        , 1.        , 1.        ,\n",
       "        1.        , 1.        , 1.        , 1.        , 1.        ,\n",
       "        1.        , 1.        , 1.        , 1.        ]),\n",
       " 'split2_train_score': array([0.98684211, 0.97368421, 0.97368421, 0.68421053, 1.        ,\n",
       "        0.98684211, 0.98684211, 0.92105263, 1.        , 0.98684211,\n",
       "        0.98684211, 0.97368421, 1.        , 1.        , 1.        ,\n",
       "        0.98684211, 1.        , 1.        , 1.        , 0.98684211,\n",
       "        1.        , 1.        , 1.        , 1.        ]),\n",
       " 'mean_train_score': array([0.98660503, 0.98221906, 0.98221906, 0.67401612, 0.99099099,\n",
       "        0.99110953, 0.99110953, 0.93314367, 0.9954955 , 0.98660503,\n",
       "        0.98660503, 0.98221906, 1.        , 0.99099099, 0.99099099,\n",
       "        0.99110953, 1.        , 0.9954955 , 0.9954955 , 0.98660503,\n",
       "        1.        , 1.        , 1.        , 0.99099099]),\n",
       " 'std_train_score': array([0.01103501, 0.01257637, 0.01257637, 0.00907738, 0.01274066,\n",
       "        0.00628819, 0.00628819, 0.01017509, 0.00637033, 0.01103501,\n",
       "        0.01103501, 0.01257637, 0.        , 0.01274066, 0.01274066,\n",
       "        0.00628819, 0.        , 0.00637033, 0.00637033, 0.01103501,\n",
       "        0.        , 0.        , 0.        , 0.01274066])}"
      ]
     },
     "execution_count": 29,
     "metadata": {},
     "output_type": "execute_result"
    }
   ],
   "source": [
    "abc.cv_results_"
   ]
  }
 ],
 "metadata": {
  "kernelspec": {
   "display_name": "Python 3",
   "language": "python",
   "name": "python3"
  },
  "language_info": {
   "codemirror_mode": {
    "name": "ipython",
    "version": 3
   },
   "file_extension": ".py",
   "mimetype": "text/x-python",
   "name": "python",
   "nbconvert_exporter": "python",
   "pygments_lexer": "ipython3",
   "version": "3.7.3"
  }
 },
 "nbformat": 4,
 "nbformat_minor": 2
}
